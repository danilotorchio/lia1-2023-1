{
  "cells": [
    {
      "cell_type": "markdown",
      "metadata": {
        "id": "view-in-github",
        "colab_type": "text"
      },
      "source": [
        "<a href=\"https://colab.research.google.com/github/danilotorchio/lia1-2023-1/blob/main/Aula_03%20-%20Bye%2C%20bye%20World!.ipynb\" target=\"_parent\"><img src=\"https://colab.research.google.com/assets/colab-badge.svg\" alt=\"Open In Colab\"/></a>"
      ]
    },
    {
      "cell_type": "code",
      "source": [
        "from google.colab import drive\n",
        "drive.mount('/content/drive')"
      ],
      "metadata": {
        "colab": {
          "base_uri": "https://localhost:8080/"
        },
        "id": "mx3nO_fHmIsM",
        "outputId": "606d6300-78e2-4c65-8a6b-df4819f01168"
      },
      "id": "mx3nO_fHmIsM",
      "execution_count": null,
      "outputs": [
        {
          "output_type": "stream",
          "name": "stdout",
          "text": [
            "Drive already mounted at /content/drive; to attempt to forcibly remount, call drive.mount(\"/content/drive\", force_remount=True).\n"
          ]
        }
      ]
    },
    {
      "cell_type": "markdown",
      "id": "923b2a35",
      "metadata": {
        "id": "923b2a35"
      },
      "source": [
        "<hr style=\"height:10px\"> \n",
        " \n",
        "<div class='container2'>\n",
        "          <img src=\"https://drive.google.com/uc?id=14FE_FMSsrEshOdT4hrIy_HiGO-KXQfam\" ALIGN='left' width=\"200\">\n",
        "\t<div style='padding: 0 7em 2em 12em;'>\n",
        "        <div style=\"margin-left: 8px;\">\n",
        "          <h1>Laboratório de Inovação e Automação 1 (LIA 1)</h1>\n",
        "          <div style=\"font-size:12pt;float:left;\">2023/1 | 46M34 | Sala 200 CAE</div>\n",
        "          <br>\n",
        "          <div style=\"font-size:12pt;float:left;\">\n",
        "              <b>Projetos de Inteligência Artificial</b>\n",
        "          </div>\n",
        "        </div>\n",
        "\t</div>\n",
        "</div>\n",
        "\n",
        " <hr style=\"height:5px\"> \n",
        "\n",
        "    \n",
        "<h2>Introdução ao Ambiente de Projetos</h2>\n",
        "\n",
        "Aluno: Danilo Rodrigues Torchio\n",
        "\n",
        " <hr>"
      ]
    },
    {
      "cell_type": "markdown",
      "id": "4b2a68c8",
      "metadata": {
        "id": "4b2a68c8"
      },
      "source": [
        "<h1>Importação de Bibliotecas</h1>"
      ]
    },
    {
      "cell_type": "code",
      "execution_count": null,
      "id": "b997b492",
      "metadata": {
        "id": "b997b492"
      },
      "outputs": [],
      "source": [
        "from platform import python_version"
      ]
    },
    {
      "cell_type": "code",
      "execution_count": null,
      "id": "67fb29e6",
      "metadata": {
        "colab": {
          "base_uri": "https://localhost:8080/"
        },
        "id": "67fb29e6",
        "outputId": "8f7fdc67-43ca-46c8-bc99-a8506d209974"
      },
      "outputs": [
        {
          "output_type": "stream",
          "name": "stdout",
          "text": [
            "Python: 3.10.11\n"
          ]
        }
      ],
      "source": [
        "print(f\"Python: {python_version()}\")"
      ]
    },
    {
      "cell_type": "markdown",
      "id": "1ce46b23",
      "metadata": {
        "id": "1ce46b23"
      },
      "source": [
        "<h1>Operadores Aritméticos</h1>"
      ]
    },
    {
      "cell_type": "code",
      "execution_count": null,
      "id": "988df532",
      "metadata": {
        "colab": {
          "base_uri": "https://localhost:8080/"
        },
        "id": "988df532",
        "outputId": "d850c020-dd3f-43f7-c92e-adb9d912fbc0"
      },
      "outputs": [
        {
          "output_type": "execute_result",
          "data": {
            "text/plain": [
              "2"
            ]
          },
          "metadata": {},
          "execution_count": 4
        }
      ],
      "source": [
        "# Adição\n",
        "1 + 1"
      ]
    },
    {
      "cell_type": "code",
      "execution_count": null,
      "id": "2263a72c",
      "metadata": {
        "colab": {
          "base_uri": "https://localhost:8080/"
        },
        "id": "2263a72c",
        "outputId": "e0ee8091-206d-475e-fe4d-3aae09946f17"
      },
      "outputs": [
        {
          "output_type": "execute_result",
          "data": {
            "text/plain": [
              "1"
            ]
          },
          "metadata": {},
          "execution_count": 5
        }
      ],
      "source": [
        "# Subtração\n",
        "2 - 1"
      ]
    },
    {
      "cell_type": "code",
      "execution_count": null,
      "id": "e152f334",
      "metadata": {
        "colab": {
          "base_uri": "https://localhost:8080/"
        },
        "id": "e152f334",
        "outputId": "f77a39a3-7363-49e1-89b3-0d69d387cb76"
      },
      "outputs": [
        {
          "output_type": "execute_result",
          "data": {
            "text/plain": [
              "4"
            ]
          },
          "metadata": {},
          "execution_count": 6
        }
      ],
      "source": [
        "# Multiplicação\n",
        "2 * 2"
      ]
    },
    {
      "cell_type": "code",
      "execution_count": null,
      "id": "d1019237",
      "metadata": {
        "colab": {
          "base_uri": "https://localhost:8080/"
        },
        "id": "d1019237",
        "outputId": "eebe316b-ba29-4dcd-f2b5-f07f859f9978"
      },
      "outputs": [
        {
          "output_type": "execute_result",
          "data": {
            "text/plain": [
              "1.5"
            ]
          },
          "metadata": {},
          "execution_count": 7
        }
      ],
      "source": [
        "# Divisão\n",
        "3 / 2"
      ]
    },
    {
      "cell_type": "code",
      "execution_count": null,
      "id": "5b8ab221",
      "metadata": {
        "colab": {
          "base_uri": "https://localhost:8080/"
        },
        "id": "5b8ab221",
        "outputId": "4ff68cbf-4362-47b0-d89a-933a1b367677"
      },
      "outputs": [
        {
          "output_type": "execute_result",
          "data": {
            "text/plain": [
              "16"
            ]
          },
          "metadata": {},
          "execution_count": 8
        }
      ],
      "source": [
        "# Potência\n",
        "4 ** 2"
      ]
    },
    {
      "cell_type": "code",
      "execution_count": null,
      "id": "8950606c",
      "metadata": {
        "colab": {
          "base_uri": "https://localhost:8080/"
        },
        "id": "8950606c",
        "outputId": "848f09d5-1cb7-4418-a984-96903e12e6a5"
      },
      "outputs": [
        {
          "output_type": "execute_result",
          "data": {
            "text/plain": [
              "1"
            ]
          },
          "metadata": {},
          "execution_count": 9
        }
      ],
      "source": [
        "# Módulo (resto da divisão)\n",
        "10 % 3"
      ]
    },
    {
      "cell_type": "markdown",
      "id": "4974cebe",
      "metadata": {
        "id": "4974cebe"
      },
      "source": [
        "<h1>Tipos de Dados (Type)</h1>"
      ]
    },
    {
      "cell_type": "code",
      "execution_count": null,
      "id": "f531d71e",
      "metadata": {
        "colab": {
          "base_uri": "https://localhost:8080/"
        },
        "id": "f531d71e",
        "outputId": "0c7501bf-5877-4e90-a69d-03ce89dd523f"
      },
      "outputs": [
        {
          "output_type": "execute_result",
          "data": {
            "text/plain": [
              "int"
            ]
          },
          "metadata": {},
          "execution_count": 10
        }
      ],
      "source": [
        "# Qual o tipo do (?) -> Inteiro\n",
        "type(5)"
      ]
    },
    {
      "cell_type": "code",
      "execution_count": null,
      "id": "3d2b34e3",
      "metadata": {
        "colab": {
          "base_uri": "https://localhost:8080/"
        },
        "id": "3d2b34e3",
        "outputId": "feb83253-9178-4a95-8142-e8fea7dd3e8b"
      },
      "outputs": [
        {
          "output_type": "execute_result",
          "data": {
            "text/plain": [
              "float"
            ]
          },
          "metadata": {},
          "execution_count": 11
        }
      ],
      "source": [
        "# Qual o tipo do (?) -> Float - Decimal\n",
        "type(5.0)"
      ]
    },
    {
      "cell_type": "code",
      "execution_count": null,
      "id": "dc4feed1",
      "metadata": {
        "colab": {
          "base_uri": "https://localhost:8080/"
        },
        "id": "dc4feed1",
        "outputId": "1d0cb8e7-aaff-4e8e-cbaf-3bf3dce685ab"
      },
      "outputs": [
        {
          "output_type": "execute_result",
          "data": {
            "text/plain": [
              "str"
            ]
          },
          "metadata": {},
          "execution_count": 12
        }
      ],
      "source": [
        "# Qual o tipo do (?) -> String\n",
        "s = \"Learning Python from scratch\"\n",
        "type(s)"
      ]
    },
    {
      "cell_type": "markdown",
      "id": "639c2007",
      "metadata": {
        "id": "639c2007"
      },
      "source": [
        "<h2>Condicional if</h2>"
      ]
    },
    {
      "cell_type": "code",
      "execution_count": null,
      "id": "c3f48fca",
      "metadata": {
        "colab": {
          "base_uri": "https://localhost:8080/"
        },
        "id": "c3f48fca",
        "outputId": "88b44a8f-b655-48bc-e59f-ffef2d4d2dd9"
      },
      "outputs": [
        {
          "output_type": "stream",
          "name": "stdout",
          "text": [
            "A sentença é verdadeira.\n"
          ]
        }
      ],
      "source": [
        "# Condicional if (Se)\n",
        "if 5 > 2:\n",
        "    print(\"A sentença é verdadeira.\")"
      ]
    },
    {
      "cell_type": "code",
      "execution_count": null,
      "id": "17081c0b",
      "metadata": {
        "colab": {
          "base_uri": "https://localhost:8080/"
        },
        "id": "17081c0b",
        "outputId": "1b27715b-5b82-4486-b56c-94b745b54e44"
      },
      "outputs": [
        {
          "output_type": "stream",
          "name": "stdout",
          "text": [
            "A sentença é falsa.\n"
          ]
        }
      ],
      "source": [
        "# Condicional if..else\n",
        "if 5 < 2:\n",
        "    print(\"A sentença é verdadeira.\")\n",
        "else:\n",
        "    print(\"A sentença é falsa.\")"
      ]
    },
    {
      "cell_type": "code",
      "execution_count": null,
      "id": "3faf800f",
      "metadata": {
        "colab": {
          "base_uri": "https://localhost:8080/"
        },
        "id": "3faf800f",
        "outputId": "c5d50bf3-a768-40bd-9fd1-3fcf2c9a2586"
      },
      "outputs": [
        {
          "output_type": "stream",
          "name": "stdout",
          "text": [
            "Hoje vai chover!\n"
          ]
        }
      ],
      "source": [
        "# Condicional if..else com variáveis\n",
        "dia = \"Quarta-feira\"\n",
        "if dia == \"Sexta-feira\":\n",
        "    print(\"Hoje fará sol!\")\n",
        "else:\n",
        "    print(\"Hoje vai chover!\")"
      ]
    },
    {
      "cell_type": "markdown",
      "id": "9f059123",
      "metadata": {
        "id": "9f059123"
      },
      "source": [
        "<h1>Manipulando arquivos</h1>"
      ]
    },
    {
      "cell_type": "markdown",
      "id": "5d812eb2",
      "metadata": {
        "id": "5d812eb2"
      },
      "source": [
        "<h2>Lendo arquivos (.txt)</h2>"
      ]
    },
    {
      "cell_type": "code",
      "execution_count": null,
      "id": "e41e32ce",
      "metadata": {
        "id": "e41e32ce"
      },
      "outputs": [],
      "source": [
        "# Abrindo o arquivo para leitura\n",
        "a1 = open(\"/content/drive/MyDrive/UFG/Laboratório de Inovação e Automação 1/Aula_03/files/text_file.txt\", \"r\")"
      ]
    },
    {
      "cell_type": "code",
      "execution_count": null,
      "id": "ff7fc453",
      "metadata": {
        "colab": {
          "base_uri": "https://localhost:8080/"
        },
        "id": "ff7fc453",
        "outputId": "5aa8c6b9-b41b-40b9-a3a2-989f1c2a5a91"
      },
      "outputs": [
        {
          "output_type": "stream",
          "name": "stdout",
          "text": [
            "Learning Python from scratch (alterado)\n"
          ]
        }
      ],
      "source": [
        "# Lendo o arquivo\n",
        "print(a1.read())"
      ]
    },
    {
      "cell_type": "markdown",
      "id": "6992e830",
      "metadata": {
        "id": "6992e830"
      },
      "source": [
        "<h2>Gravando arquivos</h2>"
      ]
    },
    {
      "cell_type": "code",
      "execution_count": null,
      "id": "f72e89c7",
      "metadata": {
        "id": "f72e89c7"
      },
      "outputs": [],
      "source": [
        "# Abrindo o arquivo para gravação\n",
        "a2 = open(\"/content/drive/MyDrive/UFG/Laboratório de Inovação e Automação 1/Aula_03/files/text_file.txt\", \"w\")"
      ]
    },
    {
      "cell_type": "code",
      "execution_count": null,
      "id": "9ea05f75",
      "metadata": {
        "colab": {
          "base_uri": "https://localhost:8080/"
        },
        "id": "9ea05f75",
        "outputId": "f5a22e02-5b9c-49ba-bde6-1ebecfd1df4d"
      },
      "outputs": [
        {
          "output_type": "execute_result",
          "data": {
            "text/plain": [
              "39"
            ]
          },
          "metadata": {},
          "execution_count": 19
        }
      ],
      "source": [
        "# Gravando no arquivo\n",
        "a2.write(\"Learning Python from scratch (alterado)\")"
      ]
    },
    {
      "cell_type": "code",
      "execution_count": null,
      "id": "9aec1a26",
      "metadata": {
        "id": "9aec1a26"
      },
      "outputs": [],
      "source": [
        "# Abrindo o arquivo para leitura\n",
        "a2 = open(\"/content/drive/MyDrive/UFG/Laboratório de Inovação e Automação 1/Aula_03/files/text_file.txt\", \"r\")"
      ]
    },
    {
      "cell_type": "code",
      "execution_count": null,
      "id": "0b55a6a8",
      "metadata": {
        "colab": {
          "base_uri": "https://localhost:8080/"
        },
        "id": "0b55a6a8",
        "outputId": "b3715e5a-6bf7-415f-ab93-f6c719d60b74"
      },
      "outputs": [
        {
          "output_type": "stream",
          "name": "stdout",
          "text": [
            "Learning Python from scratch (alterado)\n"
          ]
        }
      ],
      "source": [
        "# Imprimindo o arquivo\n",
        "print(a2.read())"
      ]
    }
  ],
  "metadata": {
    "kernelspec": {
      "display_name": "Python 3 (ipykernel)",
      "language": "python",
      "name": "python3"
    },
    "language_info": {
      "codemirror_mode": {
        "name": "ipython",
        "version": 3
      },
      "file_extension": ".py",
      "mimetype": "text/x-python",
      "name": "python",
      "nbconvert_exporter": "python",
      "pygments_lexer": "ipython3",
      "version": "3.9.16"
    },
    "colab": {
      "provenance": [],
      "include_colab_link": true
    }
  },
  "nbformat": 4,
  "nbformat_minor": 5
}